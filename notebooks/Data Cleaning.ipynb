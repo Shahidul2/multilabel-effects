{
 "cells": [
  {
   "cell_type": "markdown",
   "id": "4d95e0f5",
   "metadata": {},
   "source": [
    "#### Data Loading"
   ]
  },
  {
   "cell_type": "code",
   "execution_count": null,
   "id": "14677354",
   "metadata": {},
   "outputs": [],
   "source": [
    "import pandas as pd\n",
    "\n",
    "df = pd.read_csv(r\"psychonaut_experience_reports.csv\", encoding='ISO-8859-1')"
   ]
  },
  {
   "cell_type": "code",
   "execution_count": 2,
   "id": "5c0134c2",
   "metadata": {},
   "outputs": [
    {
     "data": {
      "text/html": [
       "<div>\n",
       "<style scoped>\n",
       "    .dataframe tbody tr th:only-of-type {\n",
       "        vertical-align: middle;\n",
       "    }\n",
       "\n",
       "    .dataframe tbody tr th {\n",
       "        vertical-align: top;\n",
       "    }\n",
       "\n",
       "    .dataframe thead th {\n",
       "        text-align: right;\n",
       "    }\n",
       "</style>\n",
       "<table border=\"1\" class=\"dataframe\">\n",
       "  <thead>\n",
       "    <tr style=\"text-align: right;\">\n",
       "      <th></th>\n",
       "      <th>title</th>\n",
       "      <th>report_text</th>\n",
       "      <th>effects_terms</th>\n",
       "    </tr>\n",
       "  </thead>\n",
       "  <tbody>\n",
       "    <tr>\n",
       "      <th>0</th>\n",
       "      <td>Experience:1050 Âµg 1cP-LSD - The matrix</td>\n",
       "      <td>&gt;Report\\nAfter 1P-LSD and other LSD derivative...</td>\n",
       "      <td>Time Distortion,Visual Disconnection,Memory Su...</td>\n",
       "    </tr>\n",
       "    <tr>\n",
       "      <th>1</th>\n",
       "      <td>Experience:35mg 4-AcO-DMT (rectal) - Colorful ...</td>\n",
       "      <td>&gt;Report\\n\\nI haven't written a trip report in ...</td>\n",
       "      <td>NaN</td>\n",
       "    </tr>\n",
       "    <tr>\n",
       "      <th>2</th>\n",
       "      <td>Experience:26mg - Stage 3 Trip</td>\n",
       "      <td>&gt;Report\\nWalking to a friends house, I popped ...</td>\n",
       "      <td>Anxiety,Time distortion,Geometry,Visual acuity...</td>\n",
       "    </tr>\n",
       "    <tr>\n",
       "      <th>3</th>\n",
       "      <td>Experience:26mg - I begged the shroom aliens t...</td>\n",
       "      <td>&gt;Report\\nI took 26mg of 4-aco-dmt alone in my ...</td>\n",
       "      <td>Anxiety,Time distortion,Autonomous entities,Na...</td>\n",
       "    </tr>\n",
       "    <tr>\n",
       "      <th>4</th>\n",
       "      <td>Experience:25mg 4-AcO-DMT (insufflated) - An i...</td>\n",
       "      <td>&gt;Report\\nI have previous experience with LSD (...</td>\n",
       "      <td>NaN</td>\n",
       "    </tr>\n",
       "  </tbody>\n",
       "</table>\n",
       "</div>"
      ],
      "text/plain": [
       "                                               title  \\\n",
       "0           Experience:1050 Âµg 1cP-LSD - The matrix   \n",
       "1  Experience:35mg 4-AcO-DMT (rectal) - Colorful ...   \n",
       "2                     Experience:26mg - Stage 3 Trip   \n",
       "3  Experience:26mg - I begged the shroom aliens t...   \n",
       "4  Experience:25mg 4-AcO-DMT (insufflated) - An i...   \n",
       "\n",
       "                                         report_text  \\\n",
       "0  >Report\\nAfter 1P-LSD and other LSD derivative...   \n",
       "1  >Report\\n\\nI haven't written a trip report in ...   \n",
       "2  >Report\\nWalking to a friends house, I popped ...   \n",
       "3  >Report\\nI took 26mg of 4-aco-dmt alone in my ...   \n",
       "4  >Report\\nI have previous experience with LSD (...   \n",
       "\n",
       "                                       effects_terms  \n",
       "0  Time Distortion,Visual Disconnection,Memory Su...  \n",
       "1                                                NaN  \n",
       "2  Anxiety,Time distortion,Geometry,Visual acuity...  \n",
       "3  Anxiety,Time distortion,Autonomous entities,Na...  \n",
       "4                                                NaN  "
      ]
     },
     "execution_count": 2,
     "metadata": {},
     "output_type": "execute_result"
    }
   ],
   "source": [
    "df.head()"
   ]
  },
  {
   "cell_type": "code",
   "execution_count": 3,
   "id": "bdc9a42d",
   "metadata": {},
   "outputs": [
    {
     "data": {
      "text/plain": [
       "(372, 3)"
      ]
     },
     "execution_count": 3,
     "metadata": {},
     "output_type": "execute_result"
    }
   ],
   "source": [
    "df.shape"
   ]
  },
  {
   "cell_type": "code",
   "execution_count": 4,
   "id": "feb10494",
   "metadata": {},
   "outputs": [
    {
     "name": "stdout",
     "output_type": "stream",
     "text": [
      "Missing effects_terms: 141\n"
     ]
    }
   ],
   "source": [
    "# Count rows with NaN in 'effects_terms'\n",
    "missing_count = df['effects_terms'].isna().sum()\n",
    "print(f\"Missing effects_terms: {missing_count}\")"
   ]
  },
  {
   "cell_type": "code",
   "execution_count": 5,
   "id": "fc013bc2",
   "metadata": {},
   "outputs": [],
   "source": [
    "#Dropping rows\n",
    "df = df[df['effects_terms'].notna() & df['effects_terms'].str.strip().ne('')]"
   ]
  },
  {
   "cell_type": "code",
   "execution_count": 6,
   "id": "4d93dddb",
   "metadata": {},
   "outputs": [
    {
     "data": {
      "text/plain": [
       "(231, 3)"
      ]
     },
     "execution_count": 6,
     "metadata": {},
     "output_type": "execute_result"
    }
   ],
   "source": [
    "df.shape"
   ]
  },
  {
   "cell_type": "code",
   "execution_count": 7,
   "id": "8c62431a",
   "metadata": {},
   "outputs": [],
   "source": [
    "# Convert comma-separated strings to list of terms\n",
    "df['effects_terms'] = df['effects_terms'].apply(lambda x: [term.strip() for term in x.split(',')])"
   ]
  },
  {
   "cell_type": "code",
   "execution_count": 8,
   "id": "88381103",
   "metadata": {},
   "outputs": [
    {
     "data": {
      "text/html": [
       "<div>\n",
       "<style scoped>\n",
       "    .dataframe tbody tr th:only-of-type {\n",
       "        vertical-align: middle;\n",
       "    }\n",
       "\n",
       "    .dataframe tbody tr th {\n",
       "        vertical-align: top;\n",
       "    }\n",
       "\n",
       "    .dataframe thead th {\n",
       "        text-align: right;\n",
       "    }\n",
       "</style>\n",
       "<table border=\"1\" class=\"dataframe\">\n",
       "  <thead>\n",
       "    <tr style=\"text-align: right;\">\n",
       "      <th></th>\n",
       "      <th>title</th>\n",
       "      <th>report_text</th>\n",
       "      <th>effects_terms</th>\n",
       "    </tr>\n",
       "  </thead>\n",
       "  <tbody>\n",
       "    <tr>\n",
       "      <th>0</th>\n",
       "      <td>Experience:1050 Âµg 1cP-LSD - The matrix</td>\n",
       "      <td>&gt;Report\\nAfter 1P-LSD and other LSD derivative...</td>\n",
       "      <td>[Time Distortion, Visual Disconnection, Memory...</td>\n",
       "    </tr>\n",
       "    <tr>\n",
       "      <th>2</th>\n",
       "      <td>Experience:26mg - Stage 3 Trip</td>\n",
       "      <td>&gt;Report\\nWalking to a friends house, I popped ...</td>\n",
       "      <td>[Anxiety, Time distortion, Geometry, Visual ac...</td>\n",
       "    </tr>\n",
       "    <tr>\n",
       "      <th>3</th>\n",
       "      <td>Experience:26mg - I begged the shroom aliens t...</td>\n",
       "      <td>&gt;Report\\nI took 26mg of 4-aco-dmt alone in my ...</td>\n",
       "      <td>[Anxiety, Time distortion, Autonomous entities...</td>\n",
       "    </tr>\n",
       "    <tr>\n",
       "      <th>5</th>\n",
       "      <td>Experience:25mg (insufflated) - Simultaneously...</td>\n",
       "      <td>&gt;Report\\nSometimes people who should know bett...</td>\n",
       "      <td>[Perspective distortions, Time distortion, 3-D...</td>\n",
       "    </tr>\n",
       "    <tr>\n",
       "      <th>6</th>\n",
       "      <td>Experience:25mg - A labyrinth of organs and a ...</td>\n",
       "      <td>&gt;Report\\nMe and my best friend are 18, the ant...</td>\n",
       "      <td>[Focus suppression, Tactile enhancement, Empat...</td>\n",
       "    </tr>\n",
       "  </tbody>\n",
       "</table>\n",
       "</div>"
      ],
      "text/plain": [
       "                                               title  \\\n",
       "0           Experience:1050 Âµg 1cP-LSD - The matrix   \n",
       "2                     Experience:26mg - Stage 3 Trip   \n",
       "3  Experience:26mg - I begged the shroom aliens t...   \n",
       "5  Experience:25mg (insufflated) - Simultaneously...   \n",
       "6  Experience:25mg - A labyrinth of organs and a ...   \n",
       "\n",
       "                                         report_text  \\\n",
       "0  >Report\\nAfter 1P-LSD and other LSD derivative...   \n",
       "2  >Report\\nWalking to a friends house, I popped ...   \n",
       "3  >Report\\nI took 26mg of 4-aco-dmt alone in my ...   \n",
       "5  >Report\\nSometimes people who should know bett...   \n",
       "6  >Report\\nMe and my best friend are 18, the ant...   \n",
       "\n",
       "                                       effects_terms  \n",
       "0  [Time Distortion, Visual Disconnection, Memory...  \n",
       "2  [Anxiety, Time distortion, Geometry, Visual ac...  \n",
       "3  [Anxiety, Time distortion, Autonomous entities...  \n",
       "5  [Perspective distortions, Time distortion, 3-D...  \n",
       "6  [Focus suppression, Tactile enhancement, Empat...  "
      ]
     },
     "execution_count": 8,
     "metadata": {},
     "output_type": "execute_result"
    }
   ],
   "source": [
    "df.head()"
   ]
  },
  {
   "cell_type": "code",
   "execution_count": 9,
   "id": "7d6b9976",
   "metadata": {},
   "outputs": [
    {
     "name": "stdout",
     "output_type": "stream",
     "text": [
      "<class 'list'>\n"
     ]
    }
   ],
   "source": [
    "print(type(df['effects_terms'].iloc[0]))  # should print <class 'list'>"
   ]
  },
  {
   "cell_type": "markdown",
   "id": "8ebdbe2b",
   "metadata": {},
   "source": [
    "#### Simple Cleaning"
   ]
  },
  {
   "cell_type": "code",
   "execution_count": 10,
   "id": "143ec604",
   "metadata": {},
   "outputs": [],
   "source": [
    "import re\n",
    "def clean_text(text):\n",
    "    # Remove markers like '>Report', '>Report\\n\\n', '==Heading==', etc.\n",
    "    text = re.sub(r'^>?Report\\s*', '', text, flags=re.IGNORECASE)\n",
    "    text = re.sub(r'=+.*?=+', '', text)  # Remove MediaWiki-style headings (==Title==)\n",
    "    return text.strip()\n",
    "\n",
    "df['report_text'] = df['report_text'].apply(clean_text)"
   ]
  },
  {
   "cell_type": "code",
   "execution_count": 11,
   "id": "ea01e468",
   "metadata": {},
   "outputs": [],
   "source": [
    "# Normalize white space\n",
    "df['report_text'] = df['report_text'].str.replace(r'\\s+', ' ', regex=True).str.strip()"
   ]
  },
  {
   "cell_type": "code",
   "execution_count": 12,
   "id": "7213c3be",
   "metadata": {},
   "outputs": [],
   "source": [
    "df['report_text'] = df['report_text'].str.encode('latin1', errors='ignore').str.decode('utf-8', errors='ignore')"
   ]
  },
  {
   "cell_type": "code",
   "execution_count": 13,
   "id": "81240daf",
   "metadata": {},
   "outputs": [
    {
     "data": {
      "text/html": [
       "<div>\n",
       "<style scoped>\n",
       "    .dataframe tbody tr th:only-of-type {\n",
       "        vertical-align: middle;\n",
       "    }\n",
       "\n",
       "    .dataframe tbody tr th {\n",
       "        vertical-align: top;\n",
       "    }\n",
       "\n",
       "    .dataframe thead th {\n",
       "        text-align: right;\n",
       "    }\n",
       "</style>\n",
       "<table border=\"1\" class=\"dataframe\">\n",
       "  <thead>\n",
       "    <tr style=\"text-align: right;\">\n",
       "      <th></th>\n",
       "      <th>title</th>\n",
       "      <th>report_text</th>\n",
       "      <th>effects_terms</th>\n",
       "    </tr>\n",
       "  </thead>\n",
       "  <tbody>\n",
       "    <tr>\n",
       "      <th>0</th>\n",
       "      <td>Experience:1050 Âµg 1cP-LSD - The matrix</td>\n",
       "      <td>After 1P-LSD and other LSD derivatives were pr...</td>\n",
       "      <td>[Time Distortion, Visual Disconnection, Memory...</td>\n",
       "    </tr>\n",
       "    <tr>\n",
       "      <th>2</th>\n",
       "      <td>Experience:26mg - Stage 3 Trip</td>\n",
       "      <td>Walking to a friends house, I popped a gel cap...</td>\n",
       "      <td>[Anxiety, Time distortion, Geometry, Visual ac...</td>\n",
       "    </tr>\n",
       "    <tr>\n",
       "      <th>3</th>\n",
       "      <td>Experience:26mg - I begged the shroom aliens t...</td>\n",
       "      <td>I took 26mg of 4-aco-dmt alone in my bedroom a...</td>\n",
       "      <td>[Anxiety, Time distortion, Autonomous entities...</td>\n",
       "    </tr>\n",
       "  </tbody>\n",
       "</table>\n",
       "</div>"
      ],
      "text/plain": [
       "                                               title  \\\n",
       "0           Experience:1050 Âµg 1cP-LSD - The matrix   \n",
       "2                     Experience:26mg - Stage 3 Trip   \n",
       "3  Experience:26mg - I begged the shroom aliens t...   \n",
       "\n",
       "                                         report_text  \\\n",
       "0  After 1P-LSD and other LSD derivatives were pr...   \n",
       "2  Walking to a friends house, I popped a gel cap...   \n",
       "3  I took 26mg of 4-aco-dmt alone in my bedroom a...   \n",
       "\n",
       "                                       effects_terms  \n",
       "0  [Time Distortion, Visual Disconnection, Memory...  \n",
       "2  [Anxiety, Time distortion, Geometry, Visual ac...  \n",
       "3  [Anxiety, Time distortion, Autonomous entities...  "
      ]
     },
     "execution_count": 13,
     "metadata": {},
     "output_type": "execute_result"
    }
   ],
   "source": [
    "df.head(3)"
   ]
  },
  {
   "cell_type": "code",
   "execution_count": 15,
   "id": "3f881788",
   "metadata": {},
   "outputs": [
    {
     "data": {
      "application/vnd.jupyter.widget-view+json": {
       "model_id": "efc96a35c124492885691538a279a3fe",
       "version_major": 2,
       "version_minor": 0
      },
      "text/plain": [
       "tokenizer_config.json:   0%|          | 0.00/48.0 [00:00<?, ?B/s]"
      ]
     },
     "metadata": {},
     "output_type": "display_data"
    },
    {
     "name": "stderr",
     "output_type": "stream",
     "text": [
      "C:\\Users\\Admin\\anaconda3\\lib\\site-packages\\huggingface_hub\\file_download.py:143: UserWarning: `huggingface_hub` cache-system uses symlinks by default to efficiently store duplicated files but your machine does not support them in C:\\Users\\Admin\\.cache\\huggingface\\hub\\models--bert-base-uncased. Caching files will still work but in a degraded version that might require more space on your disk. This warning can be disabled by setting the `HF_HUB_DISABLE_SYMLINKS_WARNING` environment variable. For more details, see https://huggingface.co/docs/huggingface_hub/how-to-cache#limitations.\n",
      "To support symlinks on Windows, you either need to activate Developer Mode or to run Python as an administrator. In order to activate developer mode, see this article: https://docs.microsoft.com/en-us/windows/apps/get-started/enable-your-device-for-development\n",
      "  warnings.warn(message)\n"
     ]
    },
    {
     "data": {
      "application/vnd.jupyter.widget-view+json": {
       "model_id": "82843acb5fef4acdb3244503097e3dbb",
       "version_major": 2,
       "version_minor": 0
      },
      "text/plain": [
       "config.json:   0%|          | 0.00/570 [00:00<?, ?B/s]"
      ]
     },
     "metadata": {},
     "output_type": "display_data"
    },
    {
     "data": {
      "application/vnd.jupyter.widget-view+json": {
       "model_id": "6da3102f7a3445d0ab4b1fb39dfb1ac5",
       "version_major": 2,
       "version_minor": 0
      },
      "text/plain": [
       "vocab.txt:   0%|          | 0.00/232k [00:00<?, ?B/s]"
      ]
     },
     "metadata": {},
     "output_type": "display_data"
    },
    {
     "data": {
      "application/vnd.jupyter.widget-view+json": {
       "model_id": "03fbc49cd4ce43c2accc6e22e8b2861b",
       "version_major": 2,
       "version_minor": 0
      },
      "text/plain": [
       "tokenizer.json:   0%|          | 0.00/466k [00:00<?, ?B/s]"
      ]
     },
     "metadata": {},
     "output_type": "display_data"
    },
    {
     "name": "stderr",
     "output_type": "stream",
     "text": [
      "Token indices sequence length is longer than the specified maximum sequence length for this model (628 > 512). Running this sequence through the model will result in indexing errors\n"
     ]
    },
    {
     "name": "stdout",
     "output_type": "stream",
     "text": [
      "count     231.000000\n",
      "mean      993.419913\n",
      "std       835.922730\n",
      "min         0.000000\n",
      "25%       449.000000\n",
      "50%       757.000000\n",
      "75%      1359.500000\n",
      "max      5302.000000\n",
      "Name: token_length, dtype: float64\n"
     ]
    }
   ],
   "source": [
    "from transformers import AutoTokenizer\n",
    "\n",
    "tokenizer = AutoTokenizer.from_pretrained(\"bert-base-uncased\")\n",
    "df['token_length'] = df['report_text'].apply(lambda x: len(tokenizer.tokenize(x)))\n",
    "\n",
    "print(df['token_length'].describe())"
   ]
  },
  {
   "cell_type": "code",
   "execution_count": 16,
   "id": "36a0fb5a",
   "metadata": {},
   "outputs": [
    {
     "name": "stdout",
     "output_type": "stream",
     "text": [
      "Total unique effect labels: 336\n",
      "['', '25I-NBOMe', '2C-B', '2C-P', '3-Dimensional textures', '3-MeO-PCP', '8A Geometry', '8A_Geometry_-_Exposure_to_semantic_concept_network', '8B - Perceived exposure to inner mechanics of consciousness', '8B Geometry', 'Abnormal heartbeat', 'Acuity enhancement', 'Acuity suppression', 'Addiction suppression', 'After images', 'Amnesia', 'Analysis enhancement', 'Analysis suppression', 'Anesthesia', 'Anxiety', 'Anxiety suppression', 'Appetite Suppression', 'Appetite enhancement', 'Appetite suppression', 'Auditory distortion', 'Auditory enhancement', 'Auditory enhancements', 'Auditory hallucination', 'Auditory hallucinations', 'Auditory suppression', 'Autonomous entities', 'Autonomous voice communication', 'Autonomus entities', 'Blurred / Double vision', 'Bodily control enhancement', 'Bodily pressures', 'Breathing', 'Brightness Alteration', 'Brightness alteration', 'Bronchodilation', 'Catharsis', 'Changes in felt bodily form', 'Changes in felt gravity', 'Changes in gravity', 'Cognitive Disconnection', 'Cognitive Euphoria', 'Cognitive disconnection', 'Cognitive dysphoria', 'Cognitive euphoria', 'Cognitive fatigue', 'Color enhancement', 'Colour Enhancement', 'Colour enhancement', 'Colour replacement', 'Colour shifting', 'Colour tinting', 'Component controllability', 'Compulsive redosing', 'Conceptual thinking', 'Confusion', 'Consciousness disconnection', 'Creativity enhancement', 'DMT', 'DPH', 'Decreased blood pressure', 'Decreased bodily weight', 'Decreased heart rate', 'Decreased libido', 'Dehydration', 'Delirium', 'Delusion', 'Delusion of sobriety', 'Delusions', 'Delusions of sobreity', 'Delusions of sobriety', 'Depersonalisation', 'Depersonalization', 'Depression', 'Depth perception distortions', 'Derealisation', 'Derealization', 'Diarrhea', 'Difficulty urinating', 'Diffraction', 'Direct communication with the subconscious', 'Disconnective effects', 'Disinhibition', 'Distortions', 'Dizziness', 'Dosage independent intensity', 'Double vision', 'Dream potentiation', 'Dream potentiaton', 'Dream suppression', 'Drifting', 'Dry Mouth', 'Dry mouth', 'DÃ©jÃ\\xa0 vu', 'Effect::Drifting#Morphing', 'Ego Death', 'Ego death', 'Ego inflation', 'Ego replacement', 'Ego_death', 'Emotion enhancement', 'Emotion suppression', 'Empathy', 'Empathy Enhancement', 'Enhancements', 'Environmental cubism', 'Environmental geometry', 'Environmental orbism', 'Environmental patterning', 'Euphoria', 'Excessive yawning', 'Existential self-realization', 'External Hallucination', 'External hallucination', 'External hallucinations', 'Feelings of eternalism', 'Feelings of impending doom', 'Feelings of interdependent opposites', 'Feelings of predeterminism', 'Feelings of self-design', 'Flowing', 'Focus enhancement', 'Focus suppression', 'Frame rate suppression', 'Frequent urination', 'Geometry', 'Glossolalia', 'Gustatory hallucination', 'Gustatory hallucinations', 'Headache', 'Headaches', 'Holes', 'Identity alteration', 'Immersion enhancement', 'Increased Music Appreciation', 'Increased blood pressure', 'Increased bodily temperature', 'Increased bodily weight', 'Increased heart rate', 'Increased libido', 'Increased music appreciation', 'Increased perspiration', 'Increased salivation', 'Increased sense of humor', 'Insomnia', 'Internal Hallucinations', 'Internal hallucination', 'Internal hallucinations', 'Introspection', 'Irritability', 'Itchiness', 'Josikins', 'LSA', 'LSD', 'Language depression', 'Language suppression', 'Laughter', 'Laughter Fits', 'Laughter fits', 'Level 4', 'MDMA', 'Machinescapes', 'Magnification', 'Mania', 'Melting', 'Memory Suppression', 'Memory enhancement', 'Memory suppression', 'Mental and physical stimulation', 'Mindfulness', 'Morphing', 'Motivation enhancement', 'Motor control loss', 'Mouth numbing', 'Multiple thought streams', 'Multiple_thought_streams', 'Muscle Relaxation', 'Muscle contractions', 'Muscle cramps', 'Muscle relaxation', 'Muscle spasms', 'Nausea', 'Nausea suppression', 'Novelty enhancement', 'Object activation', 'Object alteration', 'Olfactory enhancement', 'Olfactory hallucinations', 'Outrospection', 'Pain relief', 'Panic attack', 'Paranoia', 'Pattern recognition enhancement', 'Pattern recognition suppression', 'Perceived exposure to inner mechanics of consciousness', 'Perception of bodily heaviness', 'Perception of bodily lightness', 'Perception of decreased weight', 'Perception of increased weight', 'Perception of interdependent opposite', 'Perception of interdependent opposites', 'Perception of predeterminism', 'Perception of self-design', 'Peripheral information misinterpretation', 'Personal bias suppression', 'Personal meaning enhancement', 'Personality regression', 'Perspective alterations', 'Perspective distortion', 'Perspective distortions', 'Perspective hallucination', 'Photophobia', 'Physical', 'Physical autonomy', 'Physical disconnection', 'Physical euphoria', 'Physical fatigue', 'Psychosis', 'Pupil Dialation', 'Pupil constriction', 'Pupil dilation', 'Recursion', 'Rejuvenation', 'Respiratory depression', 'Restless leg syndrome', 'Runny nose', 'Salivation', 'Scenarios and plots', 'Scenery slicing', 'Sedation', 'Seizure', 'Settings', 'Shadow people', 'Simultaneous emotions', 'Skin flushing', 'Sleep paralysis', 'Sleepiness', 'Spatial disorientation', 'Spirituality enhancement', 'Spontaneous bodily sensations', 'Spontaneous physical sensations', 'Spontaneous tactile sensations', 'Stimulation', 'Stomach cramps', 'Structures', 'Sublingual numbing', 'Suggestibility enhancement', 'Suicidal ideation', 'Symmetrical texture repetition', 'Synaesthesia', 'Synesthesia', 'Tactile Suppression', 'Tactile disconnection', 'Tactile enhancement', 'Tactile hallucination', 'Tactile hallucinations', 'Tactile suppression', 'Teeth grinding', 'Temperature regulation suppression', 'Texture Liquidation', 'Thought acceleration', 'Thought connectivity', 'Thought deceleration', 'Thought disorganization', 'Thought loops', 'Thought organization', 'Time Distortion', 'Time distortion', 'Tracers', 'Transformations', 'Tunneling', 'Unconsciousness', 'Unity And Interconnectedness', 'Unity and interconnectedness', 'Unity and interconnectedness (lvl 3)', 'Unspeakable horrors', 'Vasoconstriction', 'Vasodilation', 'Vibrating vision', 'Visual Disconnection', 'Visual acuity enhancement', 'Visual acuity suppression', 'Visual disconnection', 'Visual disconnection with structures', 'Visual drifting', 'Visual drifting (breathing)', 'Visual drifting (melting)', 'Visual drifting (morphing)', 'Visual haze', 'Visual snow', 'Vomiting', 'Wakefulness', 'Watery eyes', 'affection', 'affection and sociability enhancement', 'analysis suppression', 'and landscapes', 'and sociability enhancement', 'anxiety', 'anxiety suppression', 'anxious', 'auditory hallucination', 'autonomous entities', 'breathing', 'centered in the middle', 'changes in felt bodily form', 'depth perception distortions', 'double vision', 'emotion enhancement', 'empathy', 'etizolam', 'external hallucinations', 'flowing', 'josikins', 'language suppression', 'laughter', 'love', 'love and sociability enhancement', 'melting', 'methylphenidate', 'morphing', 'paranoid', 'perception of bodily lightness', 'perception of decreased weight', 'promethazine', \"ripped apart from the inside by a black kitten like creature constructed of wire that spread round it's insides like liquid fire.\", 'sceneries', 'shadow people', 'slice', 'spaces and voids', 'tapentadol', 'vibrating vision']\n"
     ]
    }
   ],
   "source": [
    "from itertools import chain\n",
    "\n",
    "# Flatten all lists into one long list of labels\n",
    "all_labels = list(chain.from_iterable(df['effects_terms']))\n",
    "\n",
    "# Get the set of unique labels\n",
    "unique_labels = set(all_labels)\n",
    "\n",
    "# Print count and list\n",
    "print(f\"Total unique effect labels: {len(unique_labels)}\")\n",
    "print(sorted(unique_labels))"
   ]
  },
  {
   "cell_type": "code",
   "execution_count": 18,
   "id": "2f5afa85",
   "metadata": {},
   "outputs": [],
   "source": [
    "def clean_label(label):\n",
    "    label = label.strip()                         # Remove leading/trailing spaces\n",
    "    label = label.lower()                         # Normalize casing\n",
    "    label = label.replace('_', ' ')               # Underscores → spaces\n",
    "    label = label.replace('-', ' ')               # Dashes → spaces\n",
    "    label = re.sub(r'\\s+', ' ', label)            # Collapse multiple spaces\n",
    "    return label.strip()\n",
    "\n",
    "df['effects_terms'] = df['effects_terms'].apply(lambda labels: [clean_label(l) for l in labels])"
   ]
  },
  {
   "cell_type": "code",
   "execution_count": 19,
   "id": "2eea237e",
   "metadata": {},
   "outputs": [],
   "source": [
    "df['effects_terms'] = df['effects_terms'].apply(\n",
    "    lambda labels: [l for l in labels if l and len(l.split()) < 8 and len(l) < 50]\n",
    ")"
   ]
  },
  {
   "cell_type": "code",
   "execution_count": 20,
   "id": "84463e44",
   "metadata": {},
   "outputs": [],
   "source": [
    "blocklist = {'lsd', 'mdma', 'dmt', 'lsa', 'dph', 'tapentadol', 'etizolam', 'promethazine'}\n",
    "df['effects_terms'] = df['effects_terms'].apply(\n",
    "    lambda labels: [l for l in labels if l not in blocklist]\n",
    ")"
   ]
  },
  {
   "cell_type": "code",
   "execution_count": 21,
   "id": "19980da9",
   "metadata": {},
   "outputs": [],
   "source": [
    "df['effects_terms'] = df['effects_terms'].apply(lambda x: sorted(list(set(x))))"
   ]
  },
  {
   "cell_type": "code",
   "execution_count": 22,
   "id": "9bddcc40",
   "metadata": {},
   "outputs": [
    {
     "name": "stdout",
     "output_type": "stream",
     "text": [
      "Cleaned label count: 283\n"
     ]
    }
   ],
   "source": [
    "from itertools import chain\n",
    "\n",
    "unique_cleaned_labels = sorted(set(chain.from_iterable(df['effects_terms'])))\n",
    "print(f\"Cleaned label count: {len(unique_cleaned_labels)}\")"
   ]
  },
  {
   "cell_type": "code",
   "execution_count": 23,
   "id": "08d9ee4d",
   "metadata": {},
   "outputs": [
    {
     "data": {
      "text/html": [
       "<div>\n",
       "<style scoped>\n",
       "    .dataframe tbody tr th:only-of-type {\n",
       "        vertical-align: middle;\n",
       "    }\n",
       "\n",
       "    .dataframe tbody tr th {\n",
       "        vertical-align: top;\n",
       "    }\n",
       "\n",
       "    .dataframe thead th {\n",
       "        text-align: right;\n",
       "    }\n",
       "</style>\n",
       "<table border=\"1\" class=\"dataframe\">\n",
       "  <thead>\n",
       "    <tr style=\"text-align: right;\">\n",
       "      <th></th>\n",
       "      <th>title</th>\n",
       "      <th>report_text</th>\n",
       "      <th>effects_terms</th>\n",
       "      <th>token_length</th>\n",
       "    </tr>\n",
       "  </thead>\n",
       "  <tbody>\n",
       "    <tr>\n",
       "      <th>0</th>\n",
       "      <td>Experience:1050 Âµg 1cP-LSD - The matrix</td>\n",
       "      <td>After 1P-LSD and other LSD derivatives were pr...</td>\n",
       "      <td>[brightness alteration, cognitive disconnectio...</td>\n",
       "      <td>628</td>\n",
       "    </tr>\n",
       "    <tr>\n",
       "      <th>2</th>\n",
       "      <td>Experience:26mg - Stage 3 Trip</td>\n",
       "      <td>Walking to a friends house, I popped a gel cap...</td>\n",
       "      <td>[anxiety, geometry, nausea, time distortion, v...</td>\n",
       "      <td>461</td>\n",
       "    </tr>\n",
       "    <tr>\n",
       "      <th>3</th>\n",
       "      <td>Experience:26mg - I begged the shroom aliens t...</td>\n",
       "      <td>I took 26mg of 4-aco-dmt alone in my bedroom a...</td>\n",
       "      <td>[anxiety, autonomous entities, internal halluc...</td>\n",
       "      <td>722</td>\n",
       "    </tr>\n",
       "    <tr>\n",
       "      <th>5</th>\n",
       "      <td>Experience:25mg (insufflated) - Simultaneously...</td>\n",
       "      <td>Sometimes people who should know better do stu...</td>\n",
       "      <td>[3 dimensional textures, autonomous entities, ...</td>\n",
       "      <td>1905</td>\n",
       "    </tr>\n",
       "    <tr>\n",
       "      <th>6</th>\n",
       "      <td>Experience:25mg - A labyrinth of organs and a ...</td>\n",
       "      <td>Me and my best friend are 18, the antisocial n...</td>\n",
       "      <td>[and sociability enhancement, brightness alter...</td>\n",
       "      <td>927</td>\n",
       "    </tr>\n",
       "    <tr>\n",
       "      <th>8</th>\n",
       "      <td>Experience:4-AcO-DMT (20mg) - High Weight, No ...</td>\n",
       "      <td>I want to preface this by saying this wasn't m...</td>\n",
       "      <td>[internal hallucination, sedation]</td>\n",
       "      <td>473</td>\n",
       "    </tr>\n",
       "    <tr>\n",
       "      <th>9</th>\n",
       "      <td>Experience:20mg (insufflated) - Three years of...</td>\n",
       "      <td>I experience eye of providence visuals frequen...</td>\n",
       "      <td>[unity and interconnectedness]</td>\n",
       "      <td>838</td>\n",
       "    </tr>\n",
       "  </tbody>\n",
       "</table>\n",
       "</div>"
      ],
      "text/plain": [
       "                                               title  \\\n",
       "0           Experience:1050 Âµg 1cP-LSD - The matrix   \n",
       "2                     Experience:26mg - Stage 3 Trip   \n",
       "3  Experience:26mg - I begged the shroom aliens t...   \n",
       "5  Experience:25mg (insufflated) - Simultaneously...   \n",
       "6  Experience:25mg - A labyrinth of organs and a ...   \n",
       "8  Experience:4-AcO-DMT (20mg) - High Weight, No ...   \n",
       "9  Experience:20mg (insufflated) - Three years of...   \n",
       "\n",
       "                                         report_text  \\\n",
       "0  After 1P-LSD and other LSD derivatives were pr...   \n",
       "2  Walking to a friends house, I popped a gel cap...   \n",
       "3  I took 26mg of 4-aco-dmt alone in my bedroom a...   \n",
       "5  Sometimes people who should know better do stu...   \n",
       "6  Me and my best friend are 18, the antisocial n...   \n",
       "8  I want to preface this by saying this wasn't m...   \n",
       "9  I experience eye of providence visuals frequen...   \n",
       "\n",
       "                                       effects_terms  token_length  \n",
       "0  [brightness alteration, cognitive disconnectio...           628  \n",
       "2  [anxiety, geometry, nausea, time distortion, v...           461  \n",
       "3  [anxiety, autonomous entities, internal halluc...           722  \n",
       "5  [3 dimensional textures, autonomous entities, ...          1905  \n",
       "6  [and sociability enhancement, brightness alter...           927  \n",
       "8                 [internal hallucination, sedation]           473  \n",
       "9                     [unity and interconnectedness]           838  "
      ]
     },
     "execution_count": 23,
     "metadata": {},
     "output_type": "execute_result"
    }
   ],
   "source": [
    "df.head(7)"
   ]
  },
  {
   "cell_type": "code",
   "execution_count": 34,
   "id": "be646dbd",
   "metadata": {},
   "outputs": [
    {
     "data": {
      "text/plain": [
       "<Figure size 3000x600 with 0 Axes>"
      ]
     },
     "metadata": {},
     "output_type": "display_data"
    },
    {
     "data": {
      "image/png": "[encoded data removed]",
      "text/plain": [
       "<Figure size 640x480 with 1 Axes>"
      ]
     },
     "metadata": {},
     "output_type": "display_data"
    }
   ],
   "source": [
    "import matplotlib.pyplot as plt\n",
    "# Flatten all labels and count\n",
    "all_labels = list(chain.from_iterable(df['effects_terms']))\n",
    "label_counts = Counter(all_labels)\n",
    "\n",
    "# Convert to DataFrame\n",
    "label_freq_df = pd.DataFrame(label_counts.items(), columns=[\"effect\", \"count\"])\n",
    "label_freq_df = label_freq_df.sort_values(by=\"count\", ascending=False)\n",
    "\n",
    "# Plot top 30\n",
    "plt.figure(figsize=(30, 6))  # Or 30 for very long labels\n",
    "label_freq_df.head(30).plot(kind='bar', x='effect', y='count', legend=False, color='skyblue')\n",
    "plt.title(\"Top 30 Most Frequent Cleaned Effect Labels\")\n",
    "plt.ylabel(\"Frequency\")\n",
    "plt.xticks(rotation=45, ha='right')\n",
    "plt.show()"
   ]
  },
  {
   "cell_type": "code",
   "execution_count": 35,
   "id": "97987fed",
   "metadata": {},
   "outputs": [],
   "source": [
    "df.to_csv(\"cleaned_experience_reports.csv\", index=False)"
   ]
  },
  {
   "cell_type": "code",
   "execution_count": null,
   "id": "38563f36",
   "metadata": {},
   "outputs": [],
   "source": []
  }
 ],
 "metadata": {
  "kernelspec": {
   "display_name": "Python 3 (ipykernel)",
   "language": "python",
   "name": "python3"
  },
  "language_info": {
   "codemirror_mode": {
    "name": "ipython",
    "version": 3
   },
   "file_extension": ".py",
   "mimetype": "text/x-python",
   "name": "python",
   "nbconvert_exporter": "python",
   "pygments_lexer": "ipython3",
   "version": "3.9.15"
  }
 },
 "nbformat": 4,
 "nbformat_minor": 5
}
